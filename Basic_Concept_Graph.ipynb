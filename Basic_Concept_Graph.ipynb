{
 "cells": [
  {
   "cell_type": "code",
   "execution_count": 1,
   "metadata": {
    "collapsed": true
   },
   "outputs": [],
   "source": [
    "from watsongraph.conceptmodel import ConceptModel\n",
    "import requests\n",
    "import random\n",
    "import time"
   ]
  },
  {
   "cell_type": "markdown",
   "metadata": {},
   "source": [
    "## Lets Concept all the things!!!\n",
    "\n",
    "First we need to import the goodies. Then we will start with Python..."
   ]
  },
  {
   "cell_type": "code",
   "execution_count": 3,
   "metadata": {
    "collapsed": false
   },
   "outputs": [
    {
     "data": {
      "text/plain": [
       "['Python']"
      ]
     },
     "execution_count": 3,
     "metadata": {},
     "output_type": "execute_result"
    }
   ],
   "source": [
    "py = ConceptModel(['Python'])\n",
    "py.concepts()"
   ]
  },
  {
   "cell_type": "markdown",
   "metadata": {},
   "source": [
    "Now I am going to explode the and see what it does..."
   ]
  },
  {
   "cell_type": "code",
   "execution_count": 4,
   "metadata": {
    "collapsed": false
   },
   "outputs": [
    {
     "data": {
      "text/plain": [
       "47"
      ]
     },
     "execution_count": 4,
     "metadata": {},
     "output_type": "execute_result"
    }
   ],
   "source": [
    "py.explode()\n",
    "len(py.concepts())"
   ]
  },
  {
   "cell_type": "markdown",
   "metadata": {},
   "source": [
    "The next operation explores the edges of the concept"
   ]
  },
  {
   "cell_type": "code",
   "execution_count": 5,
   "metadata": {
    "collapsed": false
   },
   "outputs": [
    {
     "data": {
      "text/plain": [
       "[(0.9556251, 'Python (programming language)', 'Python'),\n",
       " (0.9391324, 'Perl', 'Python'),\n",
       " (0.9330337, 'Python', 'JavaScript'),\n",
       " (0.9329771, 'Ruby (programming language)', 'Python'),\n",
       " (0.9067886, 'Python', 'Cloud computing'),\n",
       " (0.88428956, 'Python', 'Graphical user interface'),\n",
       " (0.8606632, 'Python', 'Programming language'),\n",
       " (0.8562953, 'Python', 'GNU General Public License'),\n",
       " (0.854442, 'MySQL', 'Python'),\n",
       " (0.8541811, 'Python', 'Cross-platform'),\n",
       " (0.85204375, 'Python', 'GNU Lesser General Public License'),\n",
       " (0.848168, 'BSD licenses', 'Python'),\n",
       " (0.84645426, 'Software as a service', 'Python'),\n",
       " (0.8431103, 'Python', 'PHP'),\n",
       " (0.8181401, 'Python', 'Free software'),\n",
       " (0.81798714, 'Proprietary software', 'Python'),\n",
       " (0.8179362, 'Library (computing)', 'Python'),\n",
       " (0.8062557, 'Python', 'X Window System'),\n",
       " (0.79860413, 'Python', 'C Sharp (programming language)'),\n",
       " (0.77977175, 'Python', 'Unix-like'),\n",
       " (0.7726012, 'Amusement Today', 'Python'),\n",
       " (0.77066416, 'Python', 'C (programming language)'),\n",
       " (0.7663254, 'Python', 'C++'),\n",
       " (0.75602627, 'Solaris (operating system)', 'Python'),\n",
       " (0.74828255, 'Open source', 'Python'),\n",
       " (0.7479636, 'Python', 'Roller coaster'),\n",
       " (0.73240155, 'Python', 'Berkeley Software Distribution'),\n",
       " (0.7214403, 'Python', 'Java (programming language)'),\n",
       " (0.7199419, 'Python', 'Fortran'),\n",
       " (0.71639407, 'Python', 'FreeBSD'),\n",
       " (0.7152612, 'Python', '.NET Framework'),\n",
       " (0.714948, 'Python', 'Hypertext Transfer Protocol'),\n",
       " (0.6817643, 'Python', 'Object-oriented programming'),\n",
       " (0.6729798, 'Python', 'Compiler'),\n",
       " (0.6659008, 'Python', 'Unix'),\n",
       " (0.6571405, 'Python', 'Linux'),\n",
       " (0.63819724, 'Python', 'SQL'),\n",
       " (0.6358173, 'Python', 'Open-source software'),\n",
       " (0.6077114, 'Application programming interface', 'Python'),\n",
       " (0.59399706, 'Python', 'HTML'),\n",
       " (0.5875468, 'Python', 'Firefox'),\n",
       " (0.5859711, 'Source code', 'Python'),\n",
       " (0.52720386, 'Python', 'Server (computing)'),\n",
       " (0.519661, 'Python', 'Thrace'),\n",
       " (0.5131645, 'Python', 'Web browser'),\n",
       " (0.5038173, 'Python', 'XML')]"
      ]
     },
     "execution_count": 5,
     "metadata": {},
     "output_type": "execute_result"
    }
   ],
   "source": [
    "py.edges()"
   ]
  },
  {
   "cell_type": "markdown",
   "metadata": {},
   "source": [
    "## Expansion\n",
    "The Concept Insights API returns its results in order of their relevance to the one at hand, but between the size of Wikipedia and the depth IBM Watson's own cognitive understanding this can result in unmanagably thousands of articles. To keep the information firehose at a managable level the Concept Insights service two parameters which are passed through by watsongraph graph-expansion methods:\n",
    "limit: The maximum number of concepts to be returned. Can be any int. Throttled to 50 by default.\n",
    "level: The popularity threshold of the articles that will be returned, on a 0 (highest) to 5 (lowest) scale. Throttled to 0 by default.\n",
    "The basic explode() command is a level-0 query. What happens when we play with the levels a bit?"
   ]
  },
  {
   "cell_type": "code",
   "execution_count": 7,
   "metadata": {
    "collapsed": false
   },
   "outputs": [
    {
     "data": {
      "text/plain": [
       "497"
      ]
     },
     "execution_count": 7,
     "metadata": {},
     "output_type": "execute_result"
    }
   ],
   "source": [
    "database = ConceptModel(['Database'])\n",
    "database.explode(limit=2000, level=1)\n",
    "len(database.concepts())\n"
   ]
  },
  {
   "cell_type": "code",
   "execution_count": 8,
   "metadata": {
    "collapsed": false
   },
   "outputs": [
    {
     "data": {
      "text/plain": [
       "[(0.9970014, 'Serializability', 'Database'),\n",
       " (0.9864219, 'Database', 'Relational model'),\n",
       " (0.9763615, 'Database', 'Relational database management system'),\n",
       " (0.97531044,\n",
       "  'Comparison of relational database management systems',\n",
       "  'Database'),\n",
       " (0.97359145, 'Database', 'Database management system'),\n",
       " (0.971852, 'Database', 'SQL'),\n",
       " (0.9713523, 'Entity–relationship model', 'Database'),\n",
       " (0.9710196, 'Relational database', 'Database'),\n",
       " (0.9700896, 'Database', 'Data warehouse'),\n",
       " (0.96675915, 'Database', 'NoSQL'),\n",
       " (0.9659734, 'ODBC', 'Database'),\n",
       " (0.9617862, 'Database', 'Data model'),\n",
       " (0.95844775, 'Database', 'IBM DB2'),\n",
       " (0.9569199, 'Database', 'Comparison of database tools'),\n",
       " (0.9565391, 'Oracle Database', 'Database'),\n",
       " (0.95113266, 'Database', 'Microsoft SQL Server'),\n",
       " (0.9459676, 'Sybase', 'Database'),\n",
       " (0.94461894, 'Microsoft Access', 'Database'),\n",
       " (0.93600625, 'SQLite', 'Database'),\n",
       " (0.9335352, 'MySQL', 'Database')]"
      ]
     },
     "execution_count": 8,
     "metadata": {},
     "output_type": "execute_result"
    }
   ],
   "source": [
    "database.edges()[:20]"
   ]
  },
  {
   "cell_type": "code",
   "execution_count": 11,
   "metadata": {
    "collapsed": false
   },
   "outputs": [
    {
     "data": {
      "text/plain": [
       "[(0.99995846, 'Open source', 'Source model'),\n",
       " (0.9999577, 'Proprietary license', 'Proprietary software'),\n",
       " (0.9999575, '.pyc', 'Python (programming language)'),\n",
       " (0.9999556, 'Application programming interface', 'Plugpoint'),\n",
       " (0.999954, 'Solaris Multiplexed I/O', 'Solaris (operating system)'),\n",
       " (0.99995375, 'Ruby programming', 'Ruby (programming language)'),\n",
       " (0.9999536, 'MySQL', 'Port 3306'),\n",
       " (0.9999532, 'BSD licenses', 'Prior BSD License'),\n",
       " (0.9999531, 'Library (computing)', 'Shared library form'),\n",
       " (0.9999473, 'Hybrid SaaS', 'Software as a service'),\n",
       " (0.99994236, 'Amusement Today', 'Millennium Flyer trains'),\n",
       " (0.9999188, 'PONIE', 'Perl'),\n",
       " (0.999917, 'Open-sourcing', 'Open source'),\n",
       " (0.99991506, 'Python implementations', 'Python (programming language)'),\n",
       " (0.9999125, 'Source code', 'Kelp annotation framework'),\n",
       " (0.9999111, 'Development API', 'Application programming interface'),\n",
       " (0.9999108, 'MySQL', 'IonPanel'),\n",
       " (0.99990964, 'Stmsboot', 'Solaris (operating system)'),\n",
       " (0.99990755, '.rb', 'Ruby (programming language)'),\n",
       " (0.9999065, 'BSD licenses', 'FreeBSD license')]"
      ]
     },
     "execution_count": 11,
     "metadata": {},
     "output_type": "execute_result"
    }
   ],
   "source": [
    "py.edges()[:20]"
   ]
  },
  {
   "cell_type": "code",
   "execution_count": 12,
   "metadata": {
    "collapsed": false
   },
   "outputs": [
    {
     "data": {
      "text/plain": [
       "20373"
      ]
     },
     "execution_count": 12,
     "metadata": {},
     "output_type": "execute_result"
    }
   ],
   "source": [
    "py.augment('Standard Library')\n",
    "len(py.concepts())"
   ]
  },
  {
   "cell_type": "code",
   "execution_count": 13,
   "metadata": {
    "collapsed": false
   },
   "outputs": [
    {
     "data": {
      "text/plain": [
       "[(1, 'Standard Library'),\n",
       " (0.9753888, '.NET Framework'),\n",
       " (0.97365093, 'Ruby (programming language)'),\n",
       " (0.96429616, 'Library (computing)'),\n",
       " (0.9560636, 'C++'),\n",
       " (0.9508998, 'C Sharp (programming language)'),\n",
       " (0.9282653, 'Object-oriented programming'),\n",
       " (0.92435837, 'Python (programming language)'),\n",
       " (0.92278373, 'C (programming language)'),\n",
       " (0.9141853, 'Programming language'),\n",
       " (0.91079116, 'Java (programming language)'),\n",
       " (0.9071287, 'Compiler'),\n",
       " (0.89290786, 'Perl'),\n",
       " (0.86092633, 'JavaScript'),\n",
       " (0.85140085, 'Fortran'),\n",
       " (0.8436945, 'GNU Lesser General Public License'),\n",
       " (0.8432706, 'PHP'),\n",
       " (0.8283033, 'BSD licenses'),\n",
       " (0.80861783, 'Cross-platform'),\n",
       " (0.793306, 'Source code'),\n",
       " (0.79315317, 'SQL'),\n",
       " (0.7924912, 'XML'),\n",
       " (0.7727616, 'Application programming interface'),\n",
       " (0.7336921, 'GNU General Public License'),\n",
       " (0.7312769, 'Computer program'),\n",
       " (0.72772276, 'Computer programming'),\n",
       " (0.712122, 'Unix-like'),\n",
       " (0.7105586, 'Unix'),\n",
       " (0.7099576, 'MySQL'),\n",
       " (0.69865865, 'Berkeley Software Distribution'),\n",
       " (0.6966567, 'Free software'),\n",
       " (0.69368196, 'Solaris (operating system)'),\n",
       " (0.677952, 'FreeBSD'),\n",
       " (0.6667156, 'X86'),\n",
       " (0.66451955, 'Graphical user interface'),\n",
       " (0.6568792, 'Open source'),\n",
       " (0.6512401, 'Sun Microsystems'),\n",
       " (0.64114267, 'Hypertext Transfer Protocol'),\n",
       " (0.6361026, 'X Window System'),\n",
       " (0.63265824, 'HTML'),\n",
       " (0.62076664, 'X86-64'),\n",
       " (0.6156682, 'Open-source software'),\n",
       " (0.61412317, 'Operating system'),\n",
       " (0.6116037, 'Linux'),\n",
       " (0.58794594, 'Firefox'),\n",
       " (0.5686235, 'Internet Explorer'),\n",
       " (0.5573005, 'Proprietary software'),\n",
       " (0.5542006, 'ARM architecture'),\n",
       " (0.54244435, 'Algorithm'),\n",
       " (0.534691, 'Oracle Corporation'),\n",
       " (0.5261502, 'Computing')]"
      ]
     },
     "execution_count": 13,
     "metadata": {},
     "output_type": "execute_result"
    }
   ],
   "source": [
    "py.neighborhood('Standard Library')"
   ]
  },
  {
   "cell_type": "markdown",
   "metadata": {},
   "source": [
    "Lets Start over with Python shall we? Yes we shall..."
   ]
  },
  {
   "cell_type": "code",
   "execution_count": 14,
   "metadata": {
    "collapsed": false
   },
   "outputs": [
    {
     "data": {
      "text/plain": [
       "20322"
      ]
     },
     "execution_count": 14,
     "metadata": {},
     "output_type": "execute_result"
    }
   ],
   "source": [
    "py.abridge('Standard Library')\n",
    "len(py.concepts())"
   ]
  },
  {
   "cell_type": "code",
   "execution_count": 15,
   "metadata": {
    "collapsed": false
   },
   "outputs": [
    {
     "data": {
      "text/plain": [
       "20314"
      ]
     },
     "execution_count": 15,
     "metadata": {},
     "output_type": "execute_result"
    }
   ],
   "source": [
    "py.abridge('Python')\n",
    "len(py.concepts())"
   ]
  },
  {
   "cell_type": "code",
   "execution_count": 16,
   "metadata": {
    "collapsed": false
   },
   "outputs": [
    {
     "data": {
      "text/plain": [
       "20309"
      ]
     },
     "execution_count": 16,
     "metadata": {},
     "output_type": "execute_result"
    }
   ],
   "source": [
    "py.abridge('Database')\n",
    "len(py.concepts())"
   ]
  },
  {
   "cell_type": "code",
   "execution_count": null,
   "metadata": {
    "collapsed": true
   },
   "outputs": [],
   "source": [
    "py.remove()"
   ]
  }
 ],
 "metadata": {
  "kernelspec": {
   "display_name": "Python 3",
   "language": "python",
   "name": "python3"
  },
  "language_info": {
   "codemirror_mode": {
    "name": "ipython",
    "version": 3
   },
   "file_extension": ".py",
   "mimetype": "text/x-python",
   "name": "python",
   "nbconvert_exporter": "python",
   "pygments_lexer": "ipython3",
   "version": "3.4.3"
  }
 },
 "nbformat": 4,
 "nbformat_minor": 0
}
