{
 "cells": [
  {
   "cell_type": "code",
   "execution_count": 1,
   "metadata": {
    "collapsed": true
   },
   "outputs": [],
   "source": [
    "from watsongraph.item import Item\n",
    "from watsongraph.user import User"
   ]
  },
  {
   "cell_type": "markdown",
   "metadata": {},
   "source": [
    "This is Me, I would like to learn something *DEEPLY* in the Python world, but I am not sure what I should learn. This isn't for purely academic reasons either, I would like to be paid to code someday. "
   ]
  },
  {
   "cell_type": "code",
   "execution_count": 2,
   "metadata": {
    "collapsed": true
   },
   "outputs": [],
   "source": [
    "Mike = User(user_id='mike')"
   ]
  },
  {
   "cell_type": "markdown",
   "metadata": {},
   "source": [
    "These are my interests in no particular order"
   ]
  },
  {
   "cell_type": "code",
   "execution_count": 3,
   "metadata": {
    "collapsed": true
   },
   "outputs": [],
   "source": [
    "Mike.input_interests([\"Python\", \"Servers\", \"Database\", \"Software Development\", \"Internet of Things\", \"Automation\", \"Systems Admin\", \"GUI\", \"Android\", \"OSX\"])"
   ]
  },
  {
   "cell_type": "markdown",
   "metadata": {},
   "source": [
    "List out the interests..."
   ]
  },
  {
   "cell_type": "code",
   "execution_count": 4,
   "metadata": {
    "collapsed": false
   },
   "outputs": [
    {
     "data": {
      "text/plain": [
       "[(1.0, 'Software development'),\n",
       " (1.0, 'Server (computing)'),\n",
       " (1.0, 'OS X'),\n",
       " (1.0, 'Internet of Things'),\n",
       " (1.0, 'Database'),\n",
       " (1.0, 'Automation'),\n",
       " (1.0, 'Android (operating system)'),\n",
       " (0.9560379, 'X Window System'),\n",
       " (0.9422607, 'Smartphone'),\n",
       " (0.9333428, 'Symbian'),\n",
       " (0.9299689, 'Apple Inc.'),\n",
       " (0.9289221, 'Berkeley Software Distribution'),\n",
       " (0.92881197, 'Mac OS'),\n",
       " (0.9245837, 'X86-64'),\n",
       " (0.92373514, 'FreeBSD'),\n",
       " (0.9220949, 'Unix-like'),\n",
       " (0.918225, 'Touchscreen'),\n",
       " (0.9162129, 'List of mobile network operators of Europe'),\n",
       " (0.9059285, 'Bluetooth'),\n",
       " (0.9049465, 'Secure Digital'),\n",
       " (0.897759, 'Index of robotics articles'),\n",
       " (0.893957, 'X86'),\n",
       " (0.8921257, 'Robotics'),\n",
       " (0.88848096, 'ARM architecture'),\n",
       " (0.88443726, 'Universal Mobile Telecommunications System'),\n",
       " (0.8842289, 'Hypertext Transfer Protocol'),\n",
       " (0.88217694, 'Solaris (operating system)'),\n",
       " (0.8815273, 'General Packet Radio Service'),\n",
       " (0.8802539, 'Graphical user interface'),\n",
       " (0.87953866, 'Pixel'),\n",
       " (0.8759955, 'C++'),\n",
       " (0.87429464, 'GSM'),\n",
       " (0.87222105, 'Object-oriented programming'),\n",
       " (0.8693155, 'IPad'),\n",
       " (0.86520654, 'Computer-aided design'),\n",
       " (0.864479, 'Ethernet'),\n",
       " (0.86153114, 'Wi-Fi'),\n",
       " (0.8596332, 'IPhone'),\n",
       " (0.8566397, 'Source code'),\n",
       " (0.85454446, 'Macintosh'),\n",
       " (0.8503803, 'BSD licenses'),\n",
       " (0.83997387, 'Operating system'),\n",
       " (0.82799613, 'Unix'),\n",
       " (0.82511514, 'Proprietary software'),\n",
       " (0.8215455, 'GNU General Public License'),\n",
       " (0.82134366, 'Nokia'),\n",
       " (0.8149859, 'Samsung'),\n",
       " (0.8144942, 'GNU Lesser General Public License'),\n",
       " (0.8086533, 'Java (programming language)'),\n",
       " (0.80728483, 'Application programming interface'),\n",
       " (0.8062246, 'Library (computing)'),\n",
       " (0.80358744, 'Gigabyte'),\n",
       " (0.8034758, 'Communications protocol'),\n",
       " (0.79892033, 'Firefox'),\n",
       " (0.7964787, 'Cloud computing'),\n",
       " (0.79323024, '.NET Framework'),\n",
       " (0.7919071, 'Windows 2000'),\n",
       " (0.7911435, 'Fortran'),\n",
       " (0.78553736, 'Windows 7'),\n",
       " (0.7791149, 'XML'),\n",
       " (0.7746804, 'Sun Microsystems'),\n",
       " (0.77080923, 'Wireless'),\n",
       " (0.76280266, 'Cross-platform'),\n",
       " (0.76126057, 'Compiler'),\n",
       " (0.76007026, 'Free software'),\n",
       " (0.7568206, 'C Sharp (programming language)'),\n",
       " (0.75453776, 'SQL'),\n",
       " (0.7545161, 'Python (programming language)'),\n",
       " (0.75376, 'MySQL'),\n",
       " (0.74859196, 'PHP'),\n",
       " (0.7466527, 'User interface'),\n",
       " (0.7409555, 'Ruby (programming language)'),\n",
       " (0.73777604, 'Perl'),\n",
       " (0.73743504, 'Advanced Micro Devices'),\n",
       " (0.72795147, 'Megabyte'),\n",
       " (0.7253799, 'JavaScript'),\n",
       " (0.7252354, 'C (programming language)'),\n",
       " (0.72280127, 'Software release life cycle'),\n",
       " (0.7134022, 'Computer programming'),\n",
       " (0.7099928, 'Robot'),\n",
       " (0.7075638, 'Open-source software'),\n",
       " (0.70665246, 'Metadata'),\n",
       " (0.7035243, 'International Organization for Standardization'),\n",
       " (0.6979555, 'Programming language'),\n",
       " (0.68952835, 'Computer network'),\n",
       " (0.6805487, 'Digital Equipment Corporation'),\n",
       " (0.67441565, 'Artificial intelligence'),\n",
       " (0.6395168, 'Manufacturing'),\n",
       " (0.62640816, 'Oracle Corporation'),\n",
       " (0.60667294, 'Siemens'),\n",
       " (0.60397357, 'Geographic information system'),\n",
       " (0.5990515, 'Semantics'),\n",
       " (0.5914147, 'Software as a service'),\n",
       " (0.5831256, 'Microprocessor'),\n",
       " (0.56692415, 'Application software'),\n",
       " (0.541167, 'Institute of Electrical and Electronics Engineers')]"
      ]
     },
     "execution_count": 4,
     "metadata": {},
     "output_type": "execute_result"
    }
   ],
   "source": [
    "Mike.interests()"
   ]
  },
  {
   "cell_type": "code",
   "execution_count": 5,
   "metadata": {
    "collapsed": true
   },
   "outputs": [],
   "source": [
    "Mike.input_interest('web app')"
   ]
  },
  {
   "cell_type": "code",
   "execution_count": 6,
   "metadata": {
    "collapsed": true
   },
   "outputs": [],
   "source": [
    "job1 = Item('Python Developer', '''Design, build and maintain backend applications that our internal teams use on a daily basis to power our solutions. Examples include lesson management systems, roster management tools, and operational reports, as well as tools to automate our daily and periodic student personalization processes.\n",
    "\n",
    "What We Are Looking For\n",
    "\n",
    "Strong desire to work in a highly collaborative, fast-paced start-up environment\n",
    "2-3 years of experience developing professional console and web based applications with at least 2 years developing professional grade solutions using Python\n",
    "Experience with web frameworks such as Django, Django REST framework, or Flask.\n",
    "Comfort with Git\n",
    "Familiarity with the MEAN stack (Mongo, Express, Angular, Node)\n",
    "General familiarity with Linux\n",
    "Deep expertise in database centric development using MS SQL server (2012 preferred) and Postgres, using FreeTDS and PyODBC\n",
    "Understanding of scalability patterns including message-centric design (e.g., Rabbit MQ and Celery) and distributed caching (e.g., Memcached)\n",
    "Intimate understanding of advanced OOP concepts.\n",
    "Proven experience building maintainable solutions; emphasis on managed extensibility, versioning, logging and instrumentation\n",
    "Familiarity with Test Driven Development fundamentals, including the creation and management of tests using popular testing frameworks and approaches (Isolation/mocks, regression testing, etc.)\n",
    "Familiarity with C# or Java huge plus.\n",
    "''')\n",
    "job2 = Item('Systems Programmer/Analyst', '''ECU is recruiting a Systems Programmer/Administrator to join our Enterprise Linux team. We are looking for a talented Systems Administrator who wants to be part of a team of Systems Programmers supporting Linux systems for East Carolina University. The position supports the University's mission critical ERP, Course Management, HPC and many other related systems. The position will be involved in various platform projects while provisioning new systems and managing them using IT automation tools. If you are familiar with Linux administration and looking for an opportunity to grow professionally apply today! \n",
    "\n",
    "Skills: \n",
    "1.Linux Systems Administration (Red Hat Enterprise Linux, Oracle Enterprise Linux, or similar) \n",
    "2.Systems programming (shell scripts, Python, Perl). \n",
    "3.Strong analytical and troubleshooting. \n",
    "4.Ability to manage projects effectively. \n",
    "5.Strong organizational and planning skills. \n",
    "6.Excellent communication skills to work efficiently with employees at all level within the organization.  \n",
    "Minimum Qualifications Bachelor's degree in Computer Science, Computer Information Systems, Computer Engineering, or closely related degree from an appropriately accredited institution; and three years of experience in operations analysis and design systems programming or closely related area; or Associate's degree in Computer Information Technology, Computer Engineering Technology or Networking Technology from an appropriately accredited institution and four years of experience in operations analysis and design, systems programming or closely related area; or an equivalent combination of education and experience.  \n",
    "Preferred Education and Experience Preferred Skills: \n",
    "1.Technical expertise in supporting Linux or UNIX Operating Systems. \n",
    "2.Understanding clustered systems, server virtualization, and IT automation. \n",
    "3.Kickstart, JumpStart, Puppet Enterprise, Cluster technologies. \n",
    "4.IT Automation using shell scripts, Puppet Enterprise modules, Python, Perl, or other programming languages. \n",
    "5.Three years of Systems Administration, Systems Programming, Systems Analysis, or a closely related field. \n",
    "6.Experience configuring server hardware (rack optimized, standalones, and blades) from various vendors. ''')\n",
    "\n",
    "job3 = Item('Devops engineer', '''Excellent system-level thinking and the ability to move up and down the stack\n",
    "5+ years of relevant experience\n",
    "Knowledge of several scripting languages (Powershell, Python, bash, Ruby, Grunt )\n",
    "Knowledge of system automation frameworks and their applications\n",
    "Have experience supporting distributed web applications, in a large, complex and evolving environment\n",
    "Experience with Amazon Web Services\n",
    "Believer in Continuous Deployment / Integration / Delivery throughout the software engineering lifecycle\n",
    "Experience with Windows and/or Linux administration, and Infrastructure management\n",
    "Experience with Configuration Management and Desired State (Chef, Puppet, Ansible, DSC)\n",
    "Experience with Continuous Integration platforms (Teamcity/Jenkins)\n",
    "Experience with Logging and Alerting platforms (Splunk/Datadog/Nagios/Cloudwatch)\n",
    "Experience with Relational Databases (MSSQL, MySQL) You'll help build the tools and systems that help Xero's Engineering, Quality Engineering and Operations teams to deliver high-quality software, fast.\n",
    "\n",
    "Work throughout the full infrastructure, including design, architecture, communication, monitoring, availability, scaling, failover and recovery.\n",
    "\n",
    "You’ll utilize your passion to learn new technologies, enthusiasm about sharing knowledge and experience.\n",
    "\n",
    "Put your “try anything once” attitude to work.\n",
    "''')\n",
    "\n",
    "job4 = Item('Software Engineer in Test', '''\n",
    "\n",
    "Piper Enterprise Solutions is seeking a Software Engineer in Test for a growing software organization in Durham, NC (Durham, North Carolina). The Software Engineer in Test will join a company voted as one of the best places to work by Glassdoor. The Software Engineer in Test will become an integral member of an automation testing team with advanced growth opportunity. The ideal candidate for the role of Software Engineer in Test will possess a background with experience in QA automation and an understanding of how software is built in addition to knowledge of object oriented programming. The Software Engineer in Test will be responsible for the design, development, and implementation of the automated testing framework and overall testing and validation to ensure product quality. \n",
    "\n",
    "Requirements for the Software Engineer in Test include: \n",
    "2 plus year of professional testing experience in QA automation\n",
    "1 plus year of programming experience preferably in Java, Ruby, or Python\n",
    "Selenium WebDriver experience is a huge plus\n",
    "Strong verbal and written communication skills''')\n",
    "\n",
    "job5 = Item('openstack software engineer', '''An OpenStack Software Engineer at Blue Box is responsible for building and maintaining software, tools and services to support our OpenStack private cloud offering and advancing the development of our Infrastructure Automation and Configuration Management tooling.\n",
    " \n",
    "We are a small distributed team, so a cultural fit is very important. We’re a friendly group that enjoys kicking out code and creating brilliant solutions that make our customers’ lives easier. Our modern infrastructure is built upon a diverse and ever changing toolset. The candidate will need to be an autodidact that is willing to commit their passion for learning to our goal of making our infrastructure best in class.\n",
    " \n",
    "Job Responsibilities:\n",
    "Improve our infrastructure and internal systems\n",
    "Help us refine and evolve our OpenStack service offering\n",
    "Take initiative to substantially improve customer and colleague workflows\n",
    "Meet with team members for regular sprints, develop and complete agreed-upon stories\n",
    "Develop modular, clean code with comprehensive tests\n",
    "Work across teams to determine most efficient path to meeting service requirements\n",
    "Provide clear documentation for completed work\n",
    "Mentor other engineers and be willing to share their knowledge and expertise\n",
    "Required Knowledge, Skills and Abilities:\n",
    "Understanding of modern cloud (compute, storage, networking) with an emphasis on OpenStack\n",
    "Chef or Ansible - Belief in infrastructure-as-code\n",
    "Ruby or Python\n",
    "Virtualization (Kernel Virtual Machine (KVM), Vagrant, OpenVZ or Link XIO Control (LXC)) Containers experience is a plus)\n",
    "Continuous Integration (CI) (Jenkins or Travis)\n",
    "Linux - Red Hat Enterprise Linux (RHEL) and Ubuntu\n",
    "Serving high-traffic web applications in production environments\n",
    "Exposure to Ruby on Rails applications and common deployment tools\n",
    "Familiarity with multiple data stores. We work with a lot of MySQL, PostgreSQL, Redis\n",
    "Git and github experience in a collaborative development environment\n",
    "Understanding of Representational State Transfer (REST) Application Program Interfaces (APIs), how they are used and the ability to create their own\n",
    "Required Technical and Professional Expertise\t\n",
    "At least 5 years experience in working as a software engineer\n",
    "At least 1 year experience in CentOS / Red Hat or 1+ year Debian / Ubuntu\n",
    "At least 1 year experience in working with configuration management tools (Chef, Ansible, Puppet)\n",
    "At least 1 year experience in MySQL and MySQL Replication, PostgreSQL, MongoDB\n",
    "At least 1 year experience in Linux, Apache, MySQL, PHP (LAMP) stack\n",
    "English: Fluent''')\n",
    "\n",
    "job6 = Item('systems engineer', '''Specific Responsibilities include but are not limited to: \n",
    "\n",
    "Odyssey is seeking experienced software engineers with expertise developing Python applications in a Linux environment.\n",
    "\n",
    "On one program, a software engineer will be responsible for developing extensions to two large software packages:\n",
    "\n",
    "Python library for virtual machine control (Open Stack Nova)\n",
    "\n",
    "Python web application for virtual machine cluster administration (Open Stack Horizon)\n",
    "\n",
    "On the other program, a software engineer will be responsible for:\n",
    "\n",
    "Python web application development with Django\n",
    "\n",
    "Distributed workflow automation with Docker and Celery/RabbitMQ\n",
    "\n",
    "Further, the software engineer will be responsible for participating in release engineering, specifically in the following areas:\n",
    "\n",
    "Debian/Ubuntu packaging and release of software\n",
    "\n",
    " Use of version control, automated testing\n",
    "\n",
    " Integration testing with other software projects\n",
    "\n",
    "MINIMUM QUALIFICATIONS\n",
    "\n",
    "4+ years of software engineering experience in Python\n",
    "\n",
    "Experience developing in a Linux environment\n",
    "\n",
    "Either a BS and 5 years experience or an MS and 3 years experience. Degree must be in a technical discipline.\n",
    "\n",
    "Must be a U.S. citizen with the ability to obtain and maintain a DoD security clearance\n",
    "\n",
    "PREFERRED QUALIFICATIONS\n",
    "\n",
    "Experience with C# or Java, AngularJS, Node.js/Grunt, REST-ful web service architecture, and web security is desired.''')"
   ]
  },
  {
   "cell_type": "code",
   "execution_count": 7,
   "metadata": {
    "collapsed": false
   },
   "outputs": [
    {
     "data": {
      "text/plain": [
       "[(0.0, 'Web application framework'),\n",
       " (0.0, 'Web application'),\n",
       " (0.0, 'Understanding'),\n",
       " (0.0, 'Tool'),\n",
       " (0.0, 'Test-driven development'),\n",
       " (0.0, 'Startup company'),\n",
       " (0.0, 'Solution'),\n",
       " (0.0, 'Software versioning'),\n",
       " (0.0, 'Scalability'),\n",
       " (0.0, 'Representational state transfer'),\n",
       " (0.0, 'Regression testing'),\n",
       " (0.0, 'Python (programming language)'),\n",
       " (0.0, 'PostgreSQL'),\n",
       " (0.0, 'Personalization'),\n",
       " (0.0, 'Object-oriented programming'),\n",
       " (0.0, 'Node.js'),\n",
       " (0.0, 'Microsoft SQL Server'),\n",
       " (0.0, 'Memcached'),\n",
       " (0.0, 'Management'),\n",
       " (0.0, 'Linux'),\n",
       " (0.0, 'Java (programming language)'),\n",
       " (0.0, 'IBM WebSphere MQ'),\n",
       " (0.0, 'Git (software)'),\n",
       " (0.0, 'Front and back ends'),\n",
       " (0.0, 'FreeTDS'),\n",
       " (0.0, 'Django (web framework)'),\n",
       " (0.0, 'Distributed cache'),\n",
       " (0.0, 'Database'),\n",
       " (0.0, 'Concept'),\n",
       " (0.0, 'C Sharp (programming language)'),\n",
       " (0.0, 'Business process')]"
      ]
     },
     "execution_count": 7,
     "metadata": {},
     "output_type": "execute_result"
    }
   ],
   "source": [
    "job1.relevancies()"
   ]
  },
  {
   "cell_type": "code",
   "execution_count": 8,
   "metadata": {
    "collapsed": false
   },
   "outputs": [
    {
     "data": {
      "text/plain": [
       "[(0.0, 'Virtual private server'),\n",
       " (0.0, 'Unix'),\n",
       " (0.0, 'Troubleshooting'),\n",
       " (0.0, 'Tool'),\n",
       " (0.0, 'Technology'),\n",
       " (0.0, 'Systems engineering'),\n",
       " (0.0, 'Systems analysis'),\n",
       " (0.0, 'System programming'),\n",
       " (0.0, 'System administrator'),\n",
       " (0.0, 'Supercomputer'),\n",
       " (0.0, 'Shell script'),\n",
       " (0.0, 'Server (computing)'),\n",
       " (0.0, 'Red Hat Enterprise Linux'),\n",
       " (0.0, 'Python (programming language)'),\n",
       " (0.0, 'Puppet (software)'),\n",
       " (0.0, 'Provisioning'),\n",
       " (0.0, 'Project management'),\n",
       " (0.0, 'Programming language'),\n",
       " (0.0, 'Programmer'),\n",
       " (0.0, 'Planning'),\n",
       " (0.0, 'Perl'),\n",
       " (0.0, 'Oracle Linux'),\n",
       " (0.0, 'Operations research'),\n",
       " (0.0, 'Operating system'),\n",
       " (0.0, 'Modular programming'),\n",
       " (0.0, 'Mission critical'),\n",
       " (0.0, 'Management information system'),\n",
       " (0.0, 'Management'),\n",
       " (0.0, 'Linux'),\n",
       " (0.0, 'JumpStart'),\n",
       " (0.0, 'Information technology'),\n",
       " (0.0, 'Enterprise resource planning'),\n",
       " (0.0, 'Employment'),\n",
       " (0.0, 'Education'),\n",
       " (0.0, 'East Carolina University'),\n",
       " (0.0, 'Design'),\n",
       " (0.0, 'Computer science'),\n",
       " (0.0, 'Computer network'),\n",
       " (0.0, 'Computer hardware'),\n",
       " (0.0, 'Computer engineering'),\n",
       " (0.0, 'Computer cluster'),\n",
       " (0.0, 'Communication'),\n",
       " (0.0, \"Bachelor's degree\"),\n",
       " (0.0, 'Automation'),\n",
       " (0.0, 'Associate degree'),\n",
       " (0.0, 'Area'),\n",
       " (0.0, 'Academic degree')]"
      ]
     },
     "execution_count": 8,
     "metadata": {},
     "output_type": "execute_result"
    }
   ],
   "source": [
    "job2.relevancies()"
   ]
  },
  {
   "cell_type": "code",
   "execution_count": 9,
   "metadata": {
    "collapsed": false
   },
   "outputs": [
    {
     "data": {
      "text/plain": [
       "[(0.0, 'Windows PowerShell'),\n",
       " (0.0, 'Web application'),\n",
       " (0.0, 'Splunk'),\n",
       " (0.0, 'Software engineering'),\n",
       " (0.0, 'Software'),\n",
       " (0.0, 'Scripting language'),\n",
       " (0.0, 'Ruby (programming language)'),\n",
       " (0.0, 'Relational database'),\n",
       " (0.0, 'Python (programming language)'),\n",
       " (0.0, 'Puppet (software)'),\n",
       " (0.0, 'Nagios'),\n",
       " (0.0, 'MySQL'),\n",
       " (0.0, 'Microsoft Windows'),\n",
       " (0.0, 'Microsoft SQL Server'),\n",
       " (0.0, 'Management'),\n",
       " (0.0, 'Linux'),\n",
       " (0.0, 'Knowledge'),\n",
       " (0.0, 'Infrastructure'),\n",
       " (0.0, 'Failover'),\n",
       " (0.0, 'Experience'),\n",
       " (0.0, 'Engineering'),\n",
       " (0.0, 'Distributed computing'),\n",
       " (0.0, 'Design'),\n",
       " (0.0, 'Continuous integration'),\n",
       " (0.0, 'Configuration management'),\n",
       " (0.0, 'Complex system'),\n",
       " (0.0, 'Communication'),\n",
       " (0.0, 'Chef (software)'),\n",
       " (0.0, 'Bash (Unix shell)'),\n",
       " (0.0, 'Automation'),\n",
       " (0.0, 'Architecture'),\n",
       " (0.0, 'Application software'),\n",
       " (0.0, 'Amazon Web Services')]"
      ]
     },
     "execution_count": 9,
     "metadata": {},
     "output_type": "execute_result"
    }
   ],
   "source": [
    "job3.relevancies()"
   ]
  },
  {
   "cell_type": "code",
   "execution_count": 10,
   "metadata": {
    "collapsed": true
   },
   "outputs": [],
   "source": [
    "Mike.express_interest(job1)\n",
    "Mike.express_interest(job5)\n",
    "Mike.express_interest(job3)"
   ]
  },
  {
   "cell_type": "code",
   "execution_count": 11,
   "metadata": {
    "collapsed": false
   },
   "outputs": [
    {
     "data": {
      "text/plain": [
       "[(1.0, 'Software development'),\n",
       " (1.0, 'Server (computing)'),\n",
       " (1.0, 'OS X'),\n",
       " (1.0, 'Internet of Things'),\n",
       " (1.0, 'Android (operating system)'),\n",
       " (0.9560379, 'X Window System'),\n",
       " (0.9422607, 'Smartphone'),\n",
       " (0.9333428, 'Symbian'),\n",
       " (0.9299689, 'Apple Inc.'),\n",
       " (0.9289221, 'Berkeley Software Distribution'),\n",
       " (0.92881197, 'Mac OS'),\n",
       " (0.92687005, 'JavaScript'),\n",
       " (0.92542577, 'Software as a service'),\n",
       " (0.9245837, 'X86-64'),\n",
       " (0.92373514, 'FreeBSD'),\n",
       " (0.9220949, 'Unix-like'),\n",
       " (0.918225, 'Touchscreen'),\n",
       " (0.9162129, 'List of mobile network operators of Europe'),\n",
       " (0.9059285, 'Bluetooth'),\n",
       " (0.9049465, 'Secure Digital'),\n",
       " (0.897759, 'Index of robotics articles'),\n",
       " (0.893957, 'X86'),\n",
       " (0.8921257, 'Robotics'),\n",
       " (0.88848096, 'ARM architecture'),\n",
       " (0.88443726, 'Universal Mobile Telecommunications System'),\n",
       " (0.88301736, 'Hypertext Transfer Protocol'),\n",
       " (0.88217694, 'Solaris (operating system)'),\n",
       " (0.8815273, 'General Packet Radio Service'),\n",
       " (0.8802539, 'Graphical user interface'),\n",
       " (0.87953866, 'Pixel'),\n",
       " (0.8759955, 'C++'),\n",
       " (0.87429464, 'GSM'),\n",
       " (0.86974704, 'Internet Explorer'),\n",
       " (0.8693155, 'IPad'),\n",
       " (0.86520654, 'Computer-aided design'),\n",
       " (0.864479, 'Ethernet'),\n",
       " (0.86305165, 'HTML'),\n",
       " (0.86153114, 'Wi-Fi'),\n",
       " (0.8596332, 'IPhone'),\n",
       " (0.8566397, 'Source code'),\n",
       " (0.85454446, 'Macintosh'),\n",
       " (0.8529508, 'Firefox'),\n",
       " (0.8517691, 'Cross-platform'),\n",
       " (0.8409958, 'GNU Lesser General Public License'),\n",
       " (0.83997387, 'Operating system'),\n",
       " (0.8357216, 'Web browser'),\n",
       " (0.8302123, '.NET Framework'),\n",
       " (0.82799613, 'Unix'),\n",
       " (0.8215455, 'GNU General Public License'),\n",
       " (0.82134366, 'Nokia'),\n",
       " (0.8197708, 'Proprietary software'),\n",
       " (0.8149859, 'Samsung'),\n",
       " (0.8126129, 'XML'),\n",
       " (0.80919915, 'Perl'),\n",
       " (0.8062246, 'Library (computing)'),\n",
       " (0.80358744, 'Gigabyte'),\n",
       " (0.8034758, 'Communications protocol'),\n",
       " (0.7919071, 'Windows 2000'),\n",
       " (0.7911435, 'Fortran'),\n",
       " (0.7891332, 'BSD licenses'),\n",
       " (0.78553736, 'Windows 7'),\n",
       " (0.7746804, 'Sun Microsystems'),\n",
       " (0.77080923, 'Wireless'),\n",
       " (0.76126057, 'Compiler'),\n",
       " (0.76007026, 'Free software'),\n",
       " (0.75453776, 'SQL'),\n",
       " (0.7466527, 'User interface'),\n",
       " (0.73743504, 'Advanced Micro Devices'),\n",
       " (0.72795147, 'Megabyte'),\n",
       " (0.7252354, 'C (programming language)'),\n",
       " (0.72280127, 'Software release life cycle'),\n",
       " (0.7134022, 'Computer programming'),\n",
       " (0.7099928, 'Robot'),\n",
       " (0.7075638, 'Open-source software'),\n",
       " (0.70665246, 'Metadata'),\n",
       " (0.7035243, 'International Organization for Standardization'),\n",
       " (0.6979555, 'Programming language'),\n",
       " (0.68952835, 'Computer network'),\n",
       " (0.6805487, 'Digital Equipment Corporation'),\n",
       " (0.67441565, 'Artificial intelligence'),\n",
       " (0.6395168, 'Manufacturing'),\n",
       " (0.62640816, 'Oracle Corporation'),\n",
       " (0.60667294, 'Siemens'),\n",
       " (0.60397357, 'Geographic information system'),\n",
       " (0.5990515, 'Semantics'),\n",
       " (0.5831256, 'Microprocessor'),\n",
       " (0.541167, 'Institute of Electrical and Electronics Engineers')]"
      ]
     },
     "execution_count": 11,
     "metadata": {},
     "output_type": "execute_result"
    }
   ],
   "source": [
    "Mike.interests()"
   ]
  },
  {
   "cell_type": "code",
   "execution_count": 12,
   "metadata": {
    "collapsed": false
   },
   "outputs": [
    {
     "data": {
      "text/plain": [
       "'openstack software engineer'"
      ]
     },
     "execution_count": 12,
     "metadata": {},
     "output_type": "execute_result"
    }
   ],
   "source": [
    "Mike.exceptions = []\n",
    "best_fit = Mike.get_best_item([job3, job1, job5])\n",
    "best_fit.name"
   ]
  },
  {
   "cell_type": "code",
   "execution_count": 13,
   "metadata": {
    "collapsed": false
   },
   "outputs": [
    {
     "data": {
      "text/plain": [
       "'Devops engineer'"
      ]
     },
     "execution_count": 13,
     "metadata": {},
     "output_type": "execute_result"
    }
   ],
   "source": [
    "Mike.exceptions = []\n",
    "best_fit = Mike.get_best_item([job1, job5, job3])\n",
    "best_fit.name"
   ]
  },
  {
   "cell_type": "code",
   "execution_count": 14,
   "metadata": {
    "collapsed": false
   },
   "outputs": [
    {
     "data": {
      "text/plain": [
       "'Devops engineer'"
      ]
     },
     "execution_count": 14,
     "metadata": {},
     "output_type": "execute_result"
    }
   ],
   "source": [
    "Mike.exceptions = []\n",
    "best_fit = Mike.get_best_item([job5, job1, job3])\n",
    "best_fit.name"
   ]
  },
  {
   "cell_type": "code",
   "execution_count": 15,
   "metadata": {
    "collapsed": false
   },
   "outputs": [
    {
     "data": {
      "text/plain": [
       "'Python Developer'"
      ]
     },
     "execution_count": 15,
     "metadata": {},
     "output_type": "execute_result"
    }
   ],
   "source": [
    "Mike.exceptions = []\n",
    "best_fit = Mike.get_best_item([job5, job3, job1])\n",
    "best_fit.name"
   ]
  },
  {
   "cell_type": "code",
   "execution_count": null,
   "metadata": {
    "collapsed": true
   },
   "outputs": [],
   "source": []
  }
 ],
 "metadata": {
  "kernelspec": {
   "display_name": "Python 3",
   "language": "python",
   "name": "python3"
  },
  "language_info": {
   "codemirror_mode": {
    "name": "ipython",
    "version": 3
   },
   "file_extension": ".py",
   "mimetype": "text/x-python",
   "name": "python",
   "nbconvert_exporter": "python",
   "pygments_lexer": "ipython3",
   "version": "3.4.3"
  }
 },
 "nbformat": 4,
 "nbformat_minor": 0
}
