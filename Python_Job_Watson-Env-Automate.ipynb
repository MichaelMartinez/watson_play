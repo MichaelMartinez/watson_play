{
 "cells": [
  {
   "cell_type": "code",
   "execution_count": 27,
   "metadata": {
    "collapsed": true
   },
   "outputs": [],
   "source": [
    "from watsongraph.item import Item\n",
    "from watsongraph.user import User"
   ]
  },
  {
   "cell_type": "markdown",
   "metadata": {},
   "source": [
    "This is Me, I would like to learn something *DEEPLY* in the Python world, but I am not sure what I should learn. This isn't for purely academic reasons either, I would like to be paid to code someday. "
   ]
  },
  {
   "cell_type": "code",
   "execution_count": 28,
   "metadata": {
    "collapsed": true
   },
   "outputs": [],
   "source": [
    "Mike = User(user_id='mike')"
   ]
  },
  {
   "cell_type": "markdown",
   "metadata": {},
   "source": [
    "These are my interests in no particular order"
   ]
  },
  {
   "cell_type": "code",
   "execution_count": 29,
   "metadata": {
    "collapsed": true
   },
   "outputs": [],
   "source": [
    "Mike.input_interests([\"Python\", \"Servers\", \"Database\", \"Software Development\", \"Internet of Things\", \"Automation\", \"Systems Admin\", \"GUI\", \"Android\", \"OSX\"])"
   ]
  },
  {
   "cell_type": "markdown",
   "metadata": {},
   "source": [
    "List out the interests..."
   ]
  },
  {
   "cell_type": "code",
   "execution_count": 30,
   "metadata": {
    "collapsed": false
   },
   "outputs": [
    {
     "data": {
      "text/plain": [
       "[(1.0, 'Software development'),\n",
       " (1.0, 'Server (computing)'),\n",
       " (1.0, 'OS X'),\n",
       " (1.0, 'Internet of Things'),\n",
       " (1.0, 'Database'),\n",
       " (1.0, 'Automation'),\n",
       " (1.0, 'Android (operating system)'),\n",
       " (0.9560379, 'X Window System'),\n",
       " (0.9452627610070801, 'LAMP (software bundle)'),\n",
       " (0.9422607, 'Smartphone'),\n",
       " (0.9333428, 'Symbian'),\n",
       " (0.9299689, 'Apple Inc.'),\n",
       " (0.9289221, 'Berkeley Software Distribution'),\n",
       " (0.92881197, 'Mac OS'),\n",
       " (0.9245837, 'X86-64'),\n",
       " (0.92373514, 'FreeBSD'),\n",
       " (0.9220949, 'Unix-like'),\n",
       " (0.918225, 'Touchscreen'),\n",
       " (0.9162129, 'List of mobile network operators of Europe'),\n",
       " (0.9128040572363282, 'MongoDB'),\n",
       " (0.9069658285046387, 'CentOS'),\n",
       " (0.9059285, 'Bluetooth'),\n",
       " (0.9049465, 'Secure Digital'),\n",
       " (0.8996500339672098, 'PostgreSQL'),\n",
       " (0.8990539850859376, 'Apache HTTP Server'),\n",
       " (0.897759, 'Index of robotics articles'),\n",
       " (0.8975061439807128, 'Red Hat'),\n",
       " (0.8967303013294678, 'Django (web framework)'),\n",
       " (0.896512296112793, 'OpenStack'),\n",
       " (0.893957, 'X86'),\n",
       " (0.8921257, 'Robotics'),\n",
       " (0.8913294193811034, 'Kernel-based Virtual Machine'),\n",
       " (0.88848096, 'ARM architecture'),\n",
       " (0.88443726, 'Universal Mobile Telecommunications System'),\n",
       " (0.8842289, 'Hypertext Transfer Protocol'),\n",
       " (0.88217694, 'Solaris (operating system)'),\n",
       " (0.8815273, 'General Packet Radio Service'),\n",
       " (0.8802539, 'Graphical user interface'),\n",
       " (0.87953866, 'Pixel'),\n",
       " (0.8759955, 'C++'),\n",
       " (0.87429464, 'GSM'),\n",
       " (0.8730210512393799, 'Web application framework'),\n",
       " (0.87222105, 'Object-oriented programming'),\n",
       " (0.8719581558496095, 'Ubuntu (operating system)'),\n",
       " (0.8693155, 'IPad'),\n",
       " (0.86520654, 'Computer-aided design'),\n",
       " (0.8649361195576626, 'Chef (software)'),\n",
       " (0.8647517, 'Windows PowerShell'),\n",
       " (0.8646125462653809, 'Node.js'),\n",
       " (0.864479, 'Ethernet'),\n",
       " (0.86153114, 'Wi-Fi'),\n",
       " (0.8596332, 'IPhone'),\n",
       " (0.8566397, 'Source code'),\n",
       " (0.85454446, 'Macintosh'),\n",
       " (0.8503803, 'BSD licenses'),\n",
       " (0.8465228557626621, 'Web application'),\n",
       " (0.8417862356964844, 'Scalability'),\n",
       " (0.83997387, 'Operating system'),\n",
       " (0.833458265824707, 'Virtualization'),\n",
       " (0.8317929698219805, 'Configuration management'),\n",
       " (0.8311231543298339, 'LXC'),\n",
       " (0.828108682821755, 'Microsoft SQL Server'),\n",
       " (0.82799613, 'Unix'),\n",
       " (0.8260053717162231, 'Front and back ends'),\n",
       " (0.82511514, 'Proprietary software'),\n",
       " (0.8251088225106933, 'Memcached'),\n",
       " (0.82452536, 'Amazon Web Services'),\n",
       " (0.8215455, 'GNU General Public License'),\n",
       " (0.82134366, 'Nokia'),\n",
       " (0.8186627, 'Scripting language'),\n",
       " (0.81704986, 'Software engineering'),\n",
       " (0.8157207806970755, 'Git (software)'),\n",
       " (0.8149859, 'Samsung'),\n",
       " (0.8144942, 'GNU Lesser General Public License'),\n",
       " (0.8131471737658691, 'Redis'),\n",
       " (0.8105889811969553, 'Puppet (software)'),\n",
       " (0.8095593575629882, 'Red Hat Enterprise Linux'),\n",
       " (0.8089638646344914, 'Representational state transfer'),\n",
       " (0.8086533, 'Java (programming language)'),\n",
       " (0.80728483, 'Application programming interface'),\n",
       " (0.8062246, 'Library (computing)'),\n",
       " (0.80358744, 'Gigabyte'),\n",
       " (0.8034758, 'Communications protocol'),\n",
       " (0.8021291082653808, 'OpenVZ'),\n",
       " (0.79892033, 'Firefox'),\n",
       " (0.7964787, 'Cloud computing'),\n",
       " (0.79323024, '.NET Framework'),\n",
       " (0.7920383695433838, 'Business process'),\n",
       " (0.7919071, 'Windows 2000'),\n",
       " (0.7911435, 'Fortran'),\n",
       " (0.7906985783681899, 'Solution'),\n",
       " (0.7901383376858486, 'Continuous integration'),\n",
       " (0.7887348717712401, 'Debian'),\n",
       " (0.7878105299752785, 'Linux'),\n",
       " (0.7877903833007811, 'Ruby on Rails'),\n",
       " (0.7868035909583008, 'Test-driven development'),\n",
       " (0.78553736, 'Windows 7'),\n",
       " (0.7806537763812853, 'Software'),\n",
       " (0.7803652739404296, 'Software deployment'),\n",
       " (0.7791149, 'XML'),\n",
       " (0.776557388607666, 'Software versioning'),\n",
       " (0.7746804, 'Sun Microsystems'),\n",
       " (0.7741872, 'Nagios'),\n",
       " (0.77080923, 'Wireless'),\n",
       " (0.7690507120593262, 'Customer'),\n",
       " (0.76280266, 'Cross-platform'),\n",
       " (0.76126057, 'Compiler'),\n",
       " (0.76007026, 'Free software'),\n",
       " (0.75838697, 'Communication'),\n",
       " (0.7568206, 'C Sharp (programming language)'),\n",
       " (0.7553997, 'Bash (Unix shell)'),\n",
       " (0.75453776, 'SQL'),\n",
       " (0.7545161, 'Python (programming language)'),\n",
       " (0.75376, 'MySQL'),\n",
       " (0.74859196, 'PHP'),\n",
       " (0.7466527, 'User interface'),\n",
       " (0.7445711304936524, 'Regression testing'),\n",
       " (0.7429461307226564, 'Workflow'),\n",
       " (0.7428268209509887, 'Personalization'),\n",
       " (0.7409555, 'Ruby (programming language)'),\n",
       " (0.740648444544137, 'Infrastructure'),\n",
       " (0.73842245, 'Experience'),\n",
       " (0.73777604, 'Perl'),\n",
       " (0.73743504, 'Advanced Micro Devices'),\n",
       " (0.7373314, 'Relational database'),\n",
       " (0.7350515112907227, 'IBM WebSphere MQ'),\n",
       " (0.7301715266645508, 'Software engineer'),\n",
       " (0.73006254, 'Failover'),\n",
       " (0.72795147, 'Megabyte'),\n",
       " (0.7253799, 'JavaScript'),\n",
       " (0.7252354, 'C (programming language)'),\n",
       " (0.72280127, 'Software release life cycle'),\n",
       " (0.7227243175739746, 'Service (economics)'),\n",
       " (0.7195629105317383, 'Understanding'),\n",
       " (0.7190379434594156, 'Tool'),\n",
       " (0.7180562, 'Distributed computing'),\n",
       " (0.7165278932148437, 'Jenkins (software)'),\n",
       " (0.7134022, 'Computer programming'),\n",
       " (0.7099928, 'Robot'),\n",
       " (0.7075846, 'Engineering'),\n",
       " (0.7075638, 'Open-source software'),\n",
       " (0.70665246, 'Metadata'),\n",
       " (0.7055433568516469, 'Knowledge'),\n",
       " (0.7035243, 'International Organization for Standardization'),\n",
       " (0.7031691907659912, 'Startup company'),\n",
       " (0.7028634978562012, 'Concept'),\n",
       " (0.6979555, 'Programming language'),\n",
       " (0.69523411754757, 'Management'),\n",
       " (0.68952835, 'Computer network'),\n",
       " (0.6883949966381835, 'Learning'),\n",
       " (0.6875434, 'Microsoft Windows'),\n",
       " (0.683841, 'Complex system'),\n",
       " (0.6805487, 'Digital Equipment Corporation'),\n",
       " (0.67441565, 'Artificial intelligence'),\n",
       " (0.6738857737548828, 'Stack (abstract data type)'),\n",
       " (0.6720162965759278, 'Autodidacticism'),\n",
       " (0.6648864836108399, 'Expert'),\n",
       " (0.65556645, 'Design'),\n",
       " (0.6551991, 'Architecture'),\n",
       " (0.6419876, 'Splunk'),\n",
       " (0.6395168, 'Manufacturing'),\n",
       " (0.6340455921600001, 'Internet Explorer'),\n",
       " (0.6331390150386963, 'FreeTDS'),\n",
       " (0.62916465285, 'HTML'),\n",
       " (0.62640816, 'Oracle Corporation'),\n",
       " (0.6159196813574219, 'Culture'),\n",
       " (0.6092410464, 'Web browser'),\n",
       " (0.60667294, 'Siemens'),\n",
       " (0.60397357, 'Geographic information system'),\n",
       " (0.5990515, 'Semantics'),\n",
       " (0.5990117065839844, 'Distributed cache'),\n",
       " (0.5944515434228514, 'XIO'),\n",
       " (0.5914147, 'Software as a service'),\n",
       " (0.5831256, 'Microprocessor'),\n",
       " (0.56692415, 'Application software'),\n",
       " (0.541167, 'Institute of Electrical and Electronics Engineers'),\n",
       " (0.5149505439058838, 'Engineer'),\n",
       " (0.47804782438403315, 'English language'),\n",
       " (0.43857954618041994, 'Exhibition game')]"
      ]
     },
     "execution_count": 30,
     "metadata": {},
     "output_type": "execute_result"
    }
   ],
   "source": [
    "Mike.interests()"
   ]
  },
  {
   "cell_type": "code",
   "execution_count": 33,
   "metadata": {
    "collapsed": false
   },
   "outputs": [],
   "source": [
    "Mike.input_interests(['web app', 'linux'])"
   ]
  },
  {
   "cell_type": "code",
   "execution_count": 34,
   "metadata": {
    "collapsed": true
   },
   "outputs": [],
   "source": [
    "job1 = Item('Python Developer', '''Design, build and maintain backend applications that our internal teams use on a \n",
    "daily basis to power our solutions. Examples include lesson management systems, roster management tools, and \n",
    "operational reports, as well as tools to automate our daily and periodic student personalization processes.\n",
    "\n",
    "What We Are Looking For\n",
    "\n",
    "Strong desire to work in a highly collaborative, fast-paced start-up environment\n",
    "2-3 years of experience developing professional console and web based applications with at least 2 years developing \n",
    "professional grade solutions using Python\n",
    "Experience with web frameworks such as Django, Django REST framework, or Flask.\n",
    "Comfort with Git\n",
    "Familiarity with the MEAN stack (Mongo, Express, Angular, Node)\n",
    "General familiarity with Linux\n",
    "Deep expertise in database centric development using MS SQL server \n",
    "(2012 preferred) and Postgres, using FreeTDS and PyODBC\n",
    "Understanding of scalability patterns including message-centric design \n",
    "(e.g., Rabbit MQ and Celery) and distributed caching (e.g., Memcached)\n",
    "Intimate understanding of advanced OOP concepts.\n",
    "Proven experience building maintainable solutions; emphasis on managed extensibility, \n",
    "versioning, logging and instrumentation\n",
    "Familiarity with Test Driven Development fundamentals, including the creation and management \n",
    "of tests using popular testing frameworks and approaches (Isolation/mocks, regression testing, etc.)\n",
    "Familiarity with C# or Java huge plus.\n",
    "''')\n",
    "job2 = Item('Systems Programmer/Analyst', '''ECU is recruiting a Systems Programmer/Administrator to join our Enterprise Linux team. We are looking for a talented Systems Administrator who wants to be part of a team of Systems Programmers supporting Linux systems for East Carolina University. The position supports the University's mission critical ERP, Course Management, HPC and many other related systems. The position will be involved in various platform projects while provisioning new systems and managing them using IT automation tools. If you are familiar with Linux administration and looking for an opportunity to grow professionally apply today! \n",
    "\n",
    "Skills: \n",
    "1.Linux Systems Administration (Red Hat Enterprise Linux, Oracle Enterprise Linux, or similar) \n",
    "2.Systems programming (shell scripts, Python, Perl). \n",
    "3.Strong analytical and troubleshooting. \n",
    "4.Ability to manage projects effectively. \n",
    "5.Strong organizational and planning skills. \n",
    "6.Excellent communication skills to work efficiently with employees at all level within the organization.  \n",
    "Minimum Qualifications Bachelor's degree in Computer Science, Computer Information Systems, Computer Engineering, or closely related degree from an appropriately accredited institution; and three years of experience in operations analysis and design systems programming or closely related area; or Associate's degree in Computer Information Technology, Computer Engineering Technology or Networking Technology from an appropriately accredited institution and four years of experience in operations analysis and design, systems programming or closely related area; or an equivalent combination of education and experience.  \n",
    "Preferred Education and Experience Preferred Skills: \n",
    "1.Technical expertise in supporting Linux or UNIX Operating Systems. \n",
    "2.Understanding clustered systems, server virtualization, and IT automation. \n",
    "3.Kickstart, JumpStart, Puppet Enterprise, Cluster technologies. \n",
    "4.IT Automation using shell scripts, Puppet Enterprise modules, Python, Perl, or other programming languages. \n",
    "5.Three years of Systems Administration, Systems Programming, Systems Analysis, or a closely related field. \n",
    "6.Experience configuring server hardware (rack optimized, standalones, and blades) from various vendors. ''')\n",
    "\n",
    "job3 = Item('Devops engineer', '''Excellent system-level thinking and the ability to move up and down the stack\n",
    "5+ years of relevant experience\n",
    "Knowledge of several scripting languages (Powershell, Python, bash, Ruby, Grunt )\n",
    "Knowledge of system automation frameworks and their applications\n",
    "Have experience supporting distributed web applications, in a large, complex and evolving environment\n",
    "Experience with Amazon Web Services\n",
    "Believer in Continuous Deployment / Integration / Delivery throughout the software engineering lifecycle\n",
    "Experience with Windows and/or Linux administration, and Infrastructure management\n",
    "Experience with Configuration Management and Desired State (Chef, Puppet, Ansible, DSC)\n",
    "Experience with Continuous Integration platforms (Teamcity/Jenkins)\n",
    "Experience with Logging and Alerting platforms (Splunk/Datadog/Nagios/Cloudwatch)\n",
    "Experience with Relational Databases (MSSQL, MySQL) You'll help build the tools and systems that help Xero's Engineering, Quality Engineering and Operations teams to deliver high-quality software, fast.\n",
    "\n",
    "Work throughout the full infrastructure, including design, architecture, communication, monitoring, availability, scaling, failover and recovery.\n",
    "\n",
    "You’ll utilize your passion to learn new technologies, enthusiasm about sharing knowledge and experience.\n",
    "\n",
    "Put your “try anything once” attitude to work.\n",
    "''')\n",
    "\n",
    "job4 = Item('Software Engineer in Test', '''\n",
    "\n",
    "Piper Enterprise Solutions is seeking a Software Engineer in Test for a growing software organization in Durham, NC (Durham, North Carolina). The Software Engineer in Test will join a company voted as one of the best places to work by Glassdoor. The Software Engineer in Test will become an integral member of an automation testing team with advanced growth opportunity. The ideal candidate for the role of Software Engineer in Test will possess a background with experience in QA automation and an understanding of how software is built in addition to knowledge of object oriented programming. The Software Engineer in Test will be responsible for the design, development, and implementation of the automated testing framework and overall testing and validation to ensure product quality. \n",
    "\n",
    "Requirements for the Software Engineer in Test include: \n",
    "2 plus year of professional testing experience in QA automation\n",
    "1 plus year of programming experience preferably in Java, Ruby, or Python\n",
    "Selenium WebDriver experience is a huge plus\n",
    "Strong verbal and written communication skills''')\n",
    "\n",
    "job5 = Item('openstack software engineer', '''An OpenStack Software Engineer at Blue Box is responsible for building and maintaining software, tools and services to support our OpenStack private cloud offering and advancing the development of our Infrastructure Automation and Configuration Management tooling.\n",
    " \n",
    "We are a small distributed team, so a cultural fit is very important. We’re a friendly group that enjoys kicking out code and creating brilliant solutions that make our customers’ lives easier. Our modern infrastructure is built upon a diverse and ever changing toolset. The candidate will need to be an autodidact that is willing to commit their passion for learning to our goal of making our infrastructure best in class.\n",
    " \n",
    "Job Responsibilities:\n",
    "Improve our infrastructure and internal systems\n",
    "Help us refine and evolve our OpenStack service offering\n",
    "Take initiative to substantially improve customer and colleague workflows\n",
    "Meet with team members for regular sprints, develop and complete agreed-upon stories\n",
    "Develop modular, clean code with comprehensive tests\n",
    "Work across teams to determine most efficient path to meeting service requirements\n",
    "Provide clear documentation for completed work\n",
    "Mentor other engineers and be willing to share their knowledge and expertise\n",
    "Required Knowledge, Skills and Abilities:\n",
    "Understanding of modern cloud (compute, storage, networking) with an emphasis on OpenStack\n",
    "Chef or Ansible - Belief in infrastructure-as-code\n",
    "Ruby or Python\n",
    "Virtualization (Kernel Virtual Machine (KVM), Vagrant, OpenVZ or Link XIO Control (LXC)) Containers experience is a plus)\n",
    "Continuous Integration (CI) (Jenkins or Travis)\n",
    "Linux - Red Hat Enterprise Linux (RHEL) and Ubuntu\n",
    "Serving high-traffic web applications in production environments\n",
    "Exposure to Ruby on Rails applications and common deployment tools\n",
    "Familiarity with multiple data stores. We work with a lot of MySQL, PostgreSQL, Redis\n",
    "Git and github experience in a collaborative development environment\n",
    "Understanding of Representational State Transfer (REST) Application Program Interfaces (APIs), how they are used and the ability to create their own\n",
    "Required Technical and Professional Expertise\t\n",
    "At least 5 years experience in working as a software engineer\n",
    "At least 1 year experience in CentOS / Red Hat or 1+ year Debian / Ubuntu\n",
    "At least 1 year experience in working with configuration management tools (Chef, Ansible, Puppet)\n",
    "At least 1 year experience in MySQL and MySQL Replication, PostgreSQL, MongoDB\n",
    "At least 1 year experience in Linux, Apache, MySQL, PHP (LAMP) stack\n",
    "English: Fluent''')\n",
    "\n",
    "job6 = Item('systems engineer', '''Specific Responsibilities include but are not limited to: \n",
    "\n",
    "Odyssey is seeking experienced software engineers with expertise developing Python applications in a Linux environment.\n",
    "\n",
    "On one program, a software engineer will be responsible for developing extensions to two large software packages:\n",
    "\n",
    "Python library for virtual machine control (Open Stack Nova)\n",
    "\n",
    "Python web application for virtual machine cluster administration (Open Stack Horizon)\n",
    "\n",
    "On the other program, a software engineer will be responsible for:\n",
    "\n",
    "Python web application development with Django\n",
    "\n",
    "Distributed workflow automation with Docker and Celery/RabbitMQ\n",
    "\n",
    "Further, the software engineer will be responsible for participating in release engineering, specifically in the following areas:\n",
    "\n",
    "Debian/Ubuntu packaging and release of software\n",
    "\n",
    " Use of version control, automated testing\n",
    "\n",
    " Integration testing with other software projects\n",
    "\n",
    "MINIMUM QUALIFICATIONS\n",
    "\n",
    "4+ years of software engineering experience in Python\n",
    "\n",
    "Experience developing in a Linux environment\n",
    "\n",
    "Either a BS and 5 years experience or an MS and 3 years experience. Degree must be in a technical discipline.\n",
    "\n",
    "Must be a U.S. citizen with the ability to obtain and maintain a DoD security clearance\n",
    "\n",
    "PREFERRED QUALIFICATIONS\n",
    "\n",
    "Experience with C# or Java, AngularJS, Node.js/Grunt, REST-ful web service architecture, and web security is desired.''')"
   ]
  },
  {
   "cell_type": "code",
   "execution_count": 35,
   "metadata": {
    "collapsed": false
   },
   "outputs": [
    {
     "data": {
      "text/plain": [
       "[(0.91834223, 'Java (programming language)'),\n",
       " (0.8967511, 'Django (web framework)'),\n",
       " (0.8842048, 'PostgreSQL'),\n",
       " (0.8738559, 'Web application'),\n",
       " (0.8730413, 'Web application framework'),\n",
       " (0.8646326, 'Node.js'),\n",
       " (0.8581192, 'Python (programming language)'),\n",
       " (0.8505019, 'C Sharp (programming language)'),\n",
       " (0.84899956, 'Database'),\n",
       " (0.84180576, 'Scalability'),\n",
       " (0.8345335, 'Object-oriented programming'),\n",
       " (0.83238906, 'Microsoft SQL Server'),\n",
       " (0.83191043, 'Representational state transfer'),\n",
       " (0.82602453, 'Front and back ends'),\n",
       " (0.82512796, 'Memcached'),\n",
       " (0.81703645, 'Git (software)'),\n",
       " (0.7990776, 'Solution'),\n",
       " (0.79205674, 'Business process'),\n",
       " (0.78682184, 'Test-driven development'),\n",
       " (0.7840187, 'Linux'),\n",
       " (0.7765754, 'Software versioning'),\n",
       " (0.7445884, 'Regression testing'),\n",
       " (0.74284405, 'Personalization'),\n",
       " (0.73506856, 'IBM WebSphere MQ'),\n",
       " (0.72574, 'Tool'),\n",
       " (0.7195796, 'Understanding'),\n",
       " (0.7031855, 'Startup company'),\n",
       " (0.7028798, 'Concept'),\n",
       " (0.6892447, 'Management'),\n",
       " (0.6331537, 'FreeTDS'),\n",
       " (0.5990256, 'Distributed cache')]"
      ]
     },
     "execution_count": 35,
     "metadata": {},
     "output_type": "execute_result"
    }
   ],
   "source": [
    "job1.relevancies()"
   ]
  },
  {
   "cell_type": "code",
   "execution_count": 36,
   "metadata": {
    "collapsed": false
   },
   "outputs": [
    {
     "data": {
      "text/plain": [
       "[(0.8796687, 'Information technology'),\n",
       " (0.8760447, 'System administrator'),\n",
       " (0.86276746, 'Systems analysis'),\n",
       " (0.85485315, 'Linux'),\n",
       " (0.8493798, 'Computer engineering'),\n",
       " (0.8436661, 'Server (computing)'),\n",
       " (0.8407045, 'Management information system'),\n",
       " (0.8379856, 'Enterprise resource planning'),\n",
       " (0.83234614, 'Automation'),\n",
       " (0.83193564, 'Computer hardware'),\n",
       " (0.83136165, 'Operations research'),\n",
       " (0.8299827, 'Computer network'),\n",
       " (0.821589, 'Computer cluster'),\n",
       " (0.82017285, 'Communication'),\n",
       " (0.81730074, 'Mission critical'),\n",
       " (0.8171752, 'Systems engineering'),\n",
       " (0.81447285, 'Computer science'),\n",
       " (0.81412184, 'Perl'),\n",
       " (0.8122004, 'Programming language'),\n",
       " (0.812135, 'Programmer'),\n",
       " (0.8095741, 'Python (programming language)'),\n",
       " (0.8071378, 'Unix'),\n",
       " (0.80298346, 'Project management'),\n",
       " (0.8029288, 'Modular programming'),\n",
       " (0.8015793, 'Planning'),\n",
       " (0.7970439, 'Academic degree'),\n",
       " (0.79541105, 'Operating system'),\n",
       " (0.78863007, 'Red Hat Enterprise Linux'),\n",
       " (0.78834057, 'Education'),\n",
       " (0.7850714, 'Provisioning'),\n",
       " (0.78212804, 'Technology'),\n",
       " (0.7818491, 'Shell script'),\n",
       " (0.77380264, 'Oracle Linux'),\n",
       " (0.77275443, 'Associate degree'),\n",
       " (0.76659346, 'System programming'),\n",
       " (0.75217485, 'Puppet (software)'),\n",
       " (0.74770504, 'Design'),\n",
       " (0.7418703, 'Management'),\n",
       " (0.7393274, 'Supercomputer'),\n",
       " (0.7187558, 'Troubleshooting'),\n",
       " (0.7026964, 'Virtual private server'),\n",
       " (0.68350863, \"Bachelor's degree\"),\n",
       " (0.6684741, 'Employment'),\n",
       " (0.6540321, 'Tool'),\n",
       " (0.60805386, 'East Carolina University'),\n",
       " (0.5760648, 'JumpStart'),\n",
       " (0.37416893, 'Area')]"
      ]
     },
     "execution_count": 36,
     "metadata": {},
     "output_type": "execute_result"
    }
   ],
   "source": [
    "job2.relevancies()"
   ]
  },
  {
   "cell_type": "code",
   "execution_count": 37,
   "metadata": {
    "collapsed": false
   },
   "outputs": [
    {
     "data": {
      "text/plain": [
       "[(0.8647517, 'Windows PowerShell'),\n",
       " (0.86340094, 'Configuration management'),\n",
       " (0.8628158, 'Python (programming language)'),\n",
       " (0.85012144, 'Chef (software)'),\n",
       " (0.84002197, 'MySQL'),\n",
       " (0.8338379, 'Ruby (programming language)'),\n",
       " (0.82452536, 'Amazon Web Services'),\n",
       " (0.82353556, 'Web application'),\n",
       " (0.82198805, 'Microsoft SQL Server'),\n",
       " (0.8186627, 'Scripting language'),\n",
       " (0.8178509, 'Application software'),\n",
       " (0.81704986, 'Software engineering'),\n",
       " (0.79320157, 'Continuous integration'),\n",
       " (0.786998, 'Puppet (software)'),\n",
       " (0.78479975, 'Linux'),\n",
       " (0.77629745, 'Software'),\n",
       " (0.7741872, 'Nagios'),\n",
       " (0.75838697, 'Communication'),\n",
       " (0.7553997, 'Bash (Unix shell)'),\n",
       " (0.7419316, 'Automation'),\n",
       " (0.73842245, 'Experience'),\n",
       " (0.7373314, 'Relational database'),\n",
       " (0.73122376, 'Infrastructure'),\n",
       " (0.73008156, 'Management'),\n",
       " (0.73006254, 'Failover'),\n",
       " (0.7180562, 'Distributed computing'),\n",
       " (0.7075846, 'Engineering'),\n",
       " (0.6996403, 'Knowledge'),\n",
       " (0.6875434, 'Microsoft Windows'),\n",
       " (0.683841, 'Complex system'),\n",
       " (0.65556645, 'Design'),\n",
       " (0.6551991, 'Architecture'),\n",
       " (0.6419876, 'Splunk')]"
      ]
     },
     "execution_count": 37,
     "metadata": {},
     "output_type": "execute_result"
    }
   ],
   "source": [
    "job3.relevancies()"
   ]
  },
  {
   "cell_type": "code",
   "execution_count": 38,
   "metadata": {
    "collapsed": true
   },
   "outputs": [],
   "source": [
    "Mike.express_interest(job1)\n",
    "Mike.express_interest(job5)\n",
    "Mike.express_interest(job3)"
   ]
  },
  {
   "cell_type": "code",
   "execution_count": 39,
   "metadata": {
    "collapsed": false
   },
   "outputs": [
    {
     "data": {
      "text/plain": [
       "[(1.0, 'Web application'),\n",
       " (1.0, 'Software'),\n",
       " (1.0, 'Ruby (programming language)'),\n",
       " (1.0, 'Python (programming language)'),\n",
       " (1.0, 'Puppet (software)'),\n",
       " (1.0, 'MySQL'),\n",
       " (1.0, 'Microsoft SQL Server'),\n",
       " (1.0, 'Linux'),\n",
       " (1.0, 'Continuous integration'),\n",
       " (1.0, 'Configuration management'),\n",
       " (1.0, 'Chef (software)'),\n",
       " (1.0, 'Automation'),\n",
       " (0.9676668349902752, 'Management'),\n",
       " (0.9519765000323003, 'Infrastructure'),\n",
       " (0.9482678165999999, 'Application software'),\n",
       " (0.9391203462000001, 'Windows PowerShell'),\n",
       " (0.9065339236199336, 'Knowledge'),\n",
       " (0.9, 'Solution'),\n",
       " (0.9, 'Representational state transfer'),\n",
       " (0.9, 'Red Hat'),\n",
       " (0.9, 'PostgreSQL'),\n",
       " (0.9, 'PHP'),\n",
       " (0.9, 'OpenStack'),\n",
       " (0.9, 'MongoDB'),\n",
       " (0.9, 'LAMP (software bundle)'),\n",
       " (0.9, 'Kernel-based Virtual Machine'),\n",
       " (0.9, 'Git (software)'),\n",
       " (0.9, 'CentOS'),\n",
       " (0.9, 'Apache HTTP Server'),\n",
       " (0.8954345409599999, 'Amazon Web Services'),\n",
       " (0.8946348157429101, 'Ubuntu (operating system)'),\n",
       " (0.8890676921999999, 'Scripting language'),\n",
       " (0.88731614796, 'Software engineering'),\n",
       " (0.8812965634200001, 'Cloud computing'),\n",
       " (0.8551336747908076, 'Virtualization'),\n",
       " (0.8527378350042991, 'LXC'),\n",
       " (0.8497801400808506, 'Tool'),\n",
       " (0.8407672992, 'Nagios'),\n",
       " (0.8342943604502123, 'Redis'),\n",
       " (0.8306132373756122, 'Red Hat Enterprise Linux'),\n",
       " (0.8294653297799999, 'Application programming interface'),\n",
       " (0.82360824942, 'Communication'),\n",
       " (0.822989752616975, 'OpenVZ'),\n",
       " (0.8203640742, 'Bash (Unix shell)'),\n",
       " (0.81, 'Web application framework'),\n",
       " (0.81, 'Scalability'),\n",
       " (0.81, 'Object-oriented programming'),\n",
       " (0.81, 'Node.js'),\n",
       " (0.81, 'Java (programming language)'),\n",
       " (0.81, 'Django (web framework)'),\n",
       " (0.81, 'Database'),\n",
       " (0.8092471776808228, 'Debian'),\n",
       " (0.8082781262841796, 'Ruby on Rails'),\n",
       " (0.8028865322340845, 'Front and back ends'),\n",
       " (0.8020150763001969, 'Memcached'),\n",
       " (0.8019267807, 'Experience'),\n",
       " (0.8007419003999999, 'Relational database'),\n",
       " (0.8006599151350489, 'Software deployment'),\n",
       " (0.79284791844, 'Failover'),\n",
       " (0.7890511000608325, 'Customer'),\n",
       " (0.781158735, 'C Sharp (programming language)'),\n",
       " (0.7798090332000001, 'Distributed computing'),\n",
       " (0.7698702232380844, 'Business process'),\n",
       " (0.7684368756000001, 'Engineering'),\n",
       " (0.7647819594457342, 'Test-driven development'),\n",
       " (0.762267627531211, 'Workflow'),\n",
       " (0.7548225352633257, 'Software versioning'),\n",
       " (0.7491607995589716, 'Software engineer'),\n",
       " (0.7466721324000001, 'Microsoft Windows'),\n",
       " (0.742651326, 'Complex system'),\n",
       " (0.7415199139409516, 'Service (economics)'),\n",
       " (0.735162341702414, 'Jenkins (software)'),\n",
       " (0.7290000000000001, 'Software development'),\n",
       " (0.7290000000000001, 'Server (computing)'),\n",
       " (0.7290000000000001, 'OS X'),\n",
       " (0.7290000000000001, 'Internet of Things'),\n",
       " (0.7290000000000001, 'Android (operating system)'),\n",
       " (0.7237315318199151, 'Regression testing'),\n",
       " (0.7220360432821804, 'Personalization'),\n",
       " (0.7144783546472913, 'IBM WebSphere MQ'),\n",
       " (0.7119451647, 'Design'),\n",
       " (0.7115462226, 'Architecture'),\n",
       " (0.7062978043661572, 'Learning'),\n",
       " (0.6994232601184247, 'Understanding'),\n",
       " (0.6971985336, 'Splunk'),\n",
       " (0.691411246044873, 'Stack (abstract data type)'),\n",
       " (0.6894931501359008, 'Autodidacticism'),\n",
       " (0.6869080503, 'Smartphone'),\n",
       " (0.6834883797122717, 'Startup company'),\n",
       " (0.6831912427581138, 'Concept'),\n",
       " (0.6821779150348682, 'Expert'),\n",
       " (0.6804069012000001, 'Symbian'),\n",
       " (0.6779473281, 'Apple Inc.'),\n",
       " (0.6771039261300001, 'Mac OS'),\n",
       " (0.6756882664500001, 'JavaScript'),\n",
       " (0.67463538633, 'Software as a service'),\n",
       " (0.67254322194, 'Unix-like'),\n",
       " (0.6704835345000001, 'FreeBSD'),\n",
       " (0.669386025, 'Touchscreen'),\n",
       " (0.6679192041, 'List of mobile network operators of Europe'),\n",
       " (0.6604218765000001, 'Bluetooth'),\n",
       " (0.6597059985, 'Secure Digital'),\n",
       " (0.6565328073000001, 'Solaris (operating system)'),\n",
       " (0.6544663110000001, 'Index of robotics articles'),\n",
       " (0.6503596353000001, 'Robotics'),\n",
       " (0.6485172336, 'Berkeley Software Distribution'),\n",
       " (0.6477026198400001, 'ARM architecture'),\n",
       " (0.6450328323000001, 'X Window System'),\n",
       " (0.6447547625400001, 'Universal Mobile Telecommunications System'),\n",
       " (0.64371965544, 'Hypertext Transfer Protocol'),\n",
       " (0.6426334017, 'General Packet Radio Service'),\n",
       " (0.6411836831400001, 'Pixel'),\n",
       " (0.6386007195000001, 'C++'),\n",
       " (0.6373607925600001, 'GSM'),\n",
       " (0.6340455921600001, 'Internet Explorer'),\n",
       " (0.6337309995000001, 'IPad'),\n",
       " (0.6319376531397071, 'Culture'),\n",
       " (0.63073556766, 'Computer-aided design'),\n",
       " (0.630205191, 'Ethernet'),\n",
       " (0.62916465285, 'HTML'),\n",
       " (0.6280562010599999, 'Wi-Fi'),\n",
       " (0.6266726028, 'IPhone'),\n",
       " (0.6244903413, 'Source code'),\n",
       " (0.62296291134, 'Macintosh'),\n",
       " (0.6227155908, 'GNU General Public License'),\n",
       " (0.6218011332000001, 'Firefox'),\n",
       " (0.61570680984, 'GNU Lesser General Public License'),\n",
       " (0.6154182595088065, 'FreeTDS'),\n",
       " (0.6099112021035058, 'XIO'),\n",
       " (0.6092410464, 'Web browser'),\n",
       " (0.6052247667000001, '.NET Framework'),\n",
       " (0.6050527227000001, 'Free software'),\n",
       " (0.5987595281400001, 'Nokia'),\n",
       " (0.5978523897, 'X86-64'),\n",
       " (0.59647257495, 'BSD licenses'),\n",
       " (0.5941247211, 'Samsung'),\n",
       " (0.5923948041000001, 'XML'),\n",
       " (0.5899061803500001, 'Perl'),\n",
       " (0.5875728336, 'Unix'),\n",
       " (0.58581524376, 'Gigabyte'),\n",
       " (0.5857338582, 'Communications protocol'),\n",
       " (0.5822461309998165, 'Distributed cache'),\n",
       " (0.5773002759, 'Windows 2000'),\n",
       " (0.5767436115000001, 'Fortran'),\n",
       " (0.5726567354400001, 'Windows 7'),\n",
       " (0.5709712437000001, 'X86'),\n",
       " (0.5647420116, 'Sun Microsystems'),\n",
       " (0.56191992867, 'Wireless'),\n",
       " (0.5594298396300001, 'Library (computing)'),\n",
       " (0.5549589555300001, 'Compiler'),\n",
       " (0.55005802704, 'SQL'),\n",
       " (0.5443098183, 'User interface'),\n",
       " (0.5375901441600002, 'Advanced Micro Devices'),\n",
       " (0.5362868087999999, 'Cross-platform'),\n",
       " (0.5306766216300001, 'Megabyte'),\n",
       " (0.5286966066000001, 'C (programming language)'),\n",
       " (0.5283426525382595, 'Engineer'),\n",
       " (0.5282603730000001, 'Operating system'),\n",
       " (0.52754548644, 'Proprietary software'),\n",
       " (0.5269221258300001, 'Software release life cycle'),\n",
       " (0.5200702038000001, 'Computer programming'),\n",
       " (0.51845637276, 'Graphical user interface'),\n",
       " (0.5175847512, 'Robot'),\n",
       " (0.5158140102000001, 'Open-source software'),\n",
       " (0.51514964334, 'Metadata'),\n",
       " (0.5128692147, 'International Organization for Standardization'),\n",
       " (0.5088095595000001, 'Programming language'),\n",
       " (0.50266616715, 'Computer network'),\n",
       " (0.4961200023000001, 'Digital Equipment Corporation'),\n",
       " (0.4916490088500001, 'Artificial intelligence'),\n",
       " (0.49048021905064015, 'English language'),\n",
       " (0.4662077472, 'Manufacturing'),\n",
       " (0.45665154864000007, 'Oracle Corporation'),\n",
       " (0.4499855054436841, 'Exhibition game'),\n",
       " (0.44226457326, 'Siemens'),\n",
       " (0.44029673253000007, 'Geographic information system'),\n",
       " (0.4367085435, 'Semantics'),\n",
       " (0.42509856240000005, 'Microprocessor'),\n",
       " (0.394510743, 'Institute of Electrical and Electronics Engineers')]"
      ]
     },
     "execution_count": 39,
     "metadata": {},
     "output_type": "execute_result"
    }
   ],
   "source": [
    "Mike.interests()"
   ]
  },
  {
   "cell_type": "code",
   "execution_count": 40,
   "metadata": {
    "collapsed": false
   },
   "outputs": [
    {
     "data": {
      "text/plain": [
       "'openstack software engineer'"
      ]
     },
     "execution_count": 40,
     "metadata": {},
     "output_type": "execute_result"
    }
   ],
   "source": [
    "Mike.exceptions = []\n",
    "best_fit = Mike.get_best_item([job3, job1, job5])\n",
    "best_fit.name"
   ]
  },
  {
   "cell_type": "code",
   "execution_count": 41,
   "metadata": {
    "collapsed": false
   },
   "outputs": [
    {
     "data": {
      "text/plain": [
       "'Devops engineer'"
      ]
     },
     "execution_count": 41,
     "metadata": {},
     "output_type": "execute_result"
    }
   ],
   "source": [
    "Mike.exceptions = []\n",
    "best_fit = Mike.get_best_item([job1, job5, job3])\n",
    "best_fit.name"
   ]
  },
  {
   "cell_type": "code",
   "execution_count": 42,
   "metadata": {
    "collapsed": false
   },
   "outputs": [
    {
     "data": {
      "text/plain": [
       "'Devops engineer'"
      ]
     },
     "execution_count": 42,
     "metadata": {},
     "output_type": "execute_result"
    }
   ],
   "source": [
    "Mike.exceptions = []\n",
    "best_fit = Mike.get_best_item([job5, job1, job3])\n",
    "best_fit.name"
   ]
  },
  {
   "cell_type": "code",
   "execution_count": 43,
   "metadata": {
    "collapsed": false
   },
   "outputs": [
    {
     "data": {
      "text/plain": [
       "'Python Developer'"
      ]
     },
     "execution_count": 43,
     "metadata": {},
     "output_type": "execute_result"
    }
   ],
   "source": [
    "Mike.exceptions = []\n",
    "best_fit = Mike.get_best_item([job5, job3, job1])\n",
    "best_fit.name"
   ]
  },
  {
   "cell_type": "code",
   "execution_count": null,
   "metadata": {
    "collapsed": true
   },
   "outputs": [],
   "source": []
  }
 ],
 "metadata": {
  "kernelspec": {
   "display_name": "Python 3",
   "language": "python",
   "name": "python3"
  },
  "language_info": {
   "codemirror_mode": {
    "name": "ipython",
    "version": 3
   },
   "file_extension": ".py",
   "mimetype": "text/x-python",
   "name": "python",
   "nbconvert_exporter": "python",
   "pygments_lexer": "ipython3",
   "version": "3.4.3"
  }
 },
 "nbformat": 4,
 "nbformat_minor": 0
}
